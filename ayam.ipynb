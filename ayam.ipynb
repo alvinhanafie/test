{
    "cells": [
        {
            "cell_type": "code",
            "execution_count": 5,
            "id": "ab5ae914-d45e-4ca8-a6a4-0c9ee37da312",
            "metadata": {},
            "outputs": [
                {
                    "name": "stdout",
                    "output_type": "stream",
                    "text": [
                        "ayam kalasan\n"
                    ]
                }
            ],
            "source": [
                "print('ayam cikiber')"
            ]
        },
        {
            "cell_type": "code",
            "execution_count": null,
            "id": "029ca318-9cfb-4fee-88bc-7b28234791c6",
            "metadata": {},
            "outputs": [],
            "source": []
        }
    ],
    "metadata": {
        "kernelspec": {
            "display_name": "Python 3 (ipykernel)",
            "language": "python",
            "name": "python3"
        },
        "language_info": {
            "codemirror_mode": {
                "name": "ipython",
                "version": 3
            },
            "file_extension": ".py",
            "mimetype": "text/x-python",
            "name": "python",
            "nbconvert_exporter": "python",
            "pygments_lexer": "ipython3",
            "version": "3.10.9"
        }
    },
    "nbformat": 4,
    "nbformat_minor": 5
}