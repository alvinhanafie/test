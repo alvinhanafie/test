{
 "cells": [
  {
   "cell_type": "code",
   "execution_count": null,
   "id": "4b40ae71-2ddc-4ffb-8008-db5566934a64",
   "metadata": {},
   "outputs": [
    {
     "name": "stdout",
     "output_type": "stream",
     "text": [
      "versi 3\n"
     ]
    }
   ],
   "source": [
    "print('versi 4')"
   ]
  },
  {
   "cell_type": "code",
   "execution_count": 4,
   "id": "31698f30-b676-4e00-83c7-d36abcd5bcc1",
   "metadata": {},
   "outputs": [
    {
     "name": "stdout",
     "output_type": "stream",
     "text": [
      "versi100\n"
     ]
    }
   ],
   "source": [
    "print('versi100')"
   ]
  },
  {
   "cell_type": "code",
   "execution_count": null,
   "id": "d366918c-9363-4567-bd1c-8c50ba7a86e4",
   "metadata": {},
   "outputs": [],
   "source": []
  }
 ],
 "metadata": {
  "kernelspec": {
   "display_name": "Python 3 (ipykernel)",
   "language": "python",
   "name": "python3"
  },
  "language_info": {
   "codemirror_mode": {
    "name": "ipython",
    "version": 3
   },
   "file_extension": ".py",
   "mimetype": "text/x-python",
   "name": "python",
   "nbconvert_exporter": "python",
   "pygments_lexer": "ipython3",
   "version": "3.10.9"
  }
 },
 "nbformat": 4,
 "nbformat_minor": 5
}
